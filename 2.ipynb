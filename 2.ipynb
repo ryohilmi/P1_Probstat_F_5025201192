{
 "cells": [
  {
   "cell_type": "markdown",
   "metadata": {},
   "source": [
    "# Soal 2\n",
    "Terdapat 20 pasien menderita Covid19 dengan peluang sembuh sebesar 0.2."
   ]
  },
  {
   "cell_type": "markdown",
   "metadata": {},
   "source": [
    "- a. Peluang terdapat 4 pasien yang sembuh"
   ]
  },
  {
   "cell_type": "code",
   "execution_count": 3,
   "metadata": {
    "vscode": {
     "languageId": "r"
    }
   },
   "outputs": [
    {
     "name": "stdout",
     "output_type": "stream",
     "text": [
      "Peluang pasien sembuh:  21.81994 %\n"
     ]
    }
   ],
   "source": [
    "pasien = 20\n",
    "p_sembuh = 0.2\n",
    "p_tidak_sembuh = 1 - p_sembuh\n",
    "\n",
    "res <- dbinom(4, pasien, p_sembuh)\n",
    "cat(\"Peluang pasien sembuh: \", res * 100, \"%\\n\")"
   ]
  }
 ],
 "metadata": {
  "kernelspec": {
   "display_name": "R",
   "language": "R",
   "name": "ir"
  },
  "language_info": {
   "codemirror_mode": "r",
   "file_extension": ".r",
   "mimetype": "text/x-r-source",
   "name": "R",
   "pygments_lexer": "r",
   "version": "4.1.3"
  },
  "orig_nbformat": 4
 },
 "nbformat": 4,
 "nbformat_minor": 2
}
