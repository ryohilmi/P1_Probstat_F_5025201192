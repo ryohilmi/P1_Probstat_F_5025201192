{
 "cells": [
  {
   "cell_type": "markdown",
   "metadata": {},
   "source": [
    "# Soal 4\n",
    "Diketahui nilai x = 2 dan v = 10"
   ]
  },
  {
   "cell_type": "markdown",
   "metadata": {},
   "source": [
    "- a. Fungsi Probabilitas dari Distribusi Chi-Square."
   ]
  },
  {
   "cell_type": "code",
   "execution_count": 2,
   "metadata": {
    "vscode": {
     "languageId": "r"
    }
   },
   "outputs": [
    {
     "data": {
      "text/html": [
       "0.00766415502440505"
      ],
      "text/latex": [
       "0.00766415502440505"
      ],
      "text/markdown": [
       "0.00766415502440505"
      ],
      "text/plain": [
       "[1] 0.007664155"
      ]
     },
     "metadata": {},
     "output_type": "display_data"
    }
   ],
   "source": [
    "x <- 2\n",
    "v <- 10\n",
    "\n",
    "p <- dchisq(x, v)\n",
    "p"
   ]
  },
  {
   "cell_type": "markdown",
   "metadata": {},
   "source": [
    "- b. Histogram dari Distribusi Chi-Square dengan 100 data random."
   ]
  },
  {
   "cell_type": "code",
   "execution_count": 3,
   "metadata": {
    "vscode": {
     "languageId": "r"
    }
   },
   "outputs": [
    {
     "data": {
      "image/png": "[encoded data removed]",
      "text/plain": [
       "Plot with title \"Histogram of chi_square\""
      ]
     },
     "metadata": {
      "image/png": {
       "height": 420,
       "width": 420
      }
     },
     "output_type": "display_data"
    }
   ],
   "source": [
    "x <- 1:100\n",
    "chi_square <- rchisq(x, 10)\n",
    "hist(chi_square)"
   ]
  },
  {
   "cell_type": "markdown",
   "metadata": {},
   "source": [
    "- c. Nilai Rataan (μ) dan Varian (σ²) dari Distribusi Chi-Square."
   ]
  },
  {
   "cell_type": "code",
   "execution_count": 6,
   "metadata": {
    "vscode": {
     "languageId": "r"
    }
   },
   "outputs": [
    {
     "name": "stdout",
     "output_type": "stream",
     "text": [
      "Rataan :  10 \n",
      "Varian :  20 \n"
     ]
    }
   ],
   "source": [
    "rataan <- v\n",
    "varian <- 2 * v\n",
    "\n",
    "cat(\"Rataan : \", rataan, \"\\n\")\n",
    "cat(\"Varian : \", varian, \"\\n\")"
   ]
  }
 ],
 "metadata": {
  "kernelspec": {
   "display_name": "R",
   "language": "R",
   "name": "ir"
  },
  "language_info": {
   "codemirror_mode": "r",
   "file_extension": ".r",
   "mimetype": "text/x-r-source",
   "name": "R",
   "pygments_lexer": "r",
   "version": "4.1.3"
  },
  "orig_nbformat": 4
 },
 "nbformat": 4,
 "nbformat_minor": 2
}
