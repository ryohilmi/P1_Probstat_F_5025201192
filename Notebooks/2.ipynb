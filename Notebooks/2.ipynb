{
 "cells": [
  {
   "cell_type": "markdown",
   "metadata": {},
   "source": [
    "# Soal 2\n",
    "Terdapat 20 pasien menderita Covid19 dengan peluang sembuh sebesar 0.2."
   ]
  },
  {
   "cell_type": "markdown",
   "metadata": {},
   "source": [
    "- a. Peluang terdapat 4 pasien yang sembuh"
   ]
  },
  {
   "cell_type": "code",
   "execution_count": 63,
   "metadata": {
    "vscode": {
     "languageId": "r"
    }
   },
   "outputs": [
    {
     "name": "stdout",
     "output_type": "stream",
     "text": [
      "Peluang pasien sembuh:  21.81994 %\n"
     ]
    }
   ],
   "source": [
    "# 2.a\n",
    "pasien <- 20\n",
    "p_sembuh <- 0.2\n",
    "p_tidak_sembuh <- 1 - p_sembuh\n",
    "pasien_sembuh <- 4\n",
    "\n",
    "res <- dbinom(pasien_sembuh, pasien, p_sembuh)\n",
    "cat(\"Peluang pasien sembuh: \", res * 100, \"%\\n\")"
   ]
  },
  {
   "cell_type": "markdown",
   "metadata": {},
   "source": [
    "- b. Gambarkan grafik histogram berdasarkan kasus tersebut."
   ]
  },
  {
   "cell_type": "code",
   "execution_count": 64,
   "metadata": {
    "vscode": {
     "languageId": "r"
    }
   },
   "outputs": [
    {
     "data": {
      "image/png": "[encoded data removed]",
      "text/plain": [
       "plot without title"
      ]
     },
     "metadata": {
      "image/png": {
       "height": 420,
       "width": 420
      }
     },
     "output_type": "display_data"
    }
   ],
   "source": [
    "# 2.b\n",
    "p <- dbinom(1:20, 20, 0.2)\n",
    "data <- data.frame(y = c(p), x = c(1:20))\n",
    "ggplot(mapping = aes(x = data$x, y = data$y)) +\n",
    "  geom_col() +\n",
    "  geom_text(\n",
    "    aes(label = round(p, 3), y = p + 0.01),\n",
    "    size = 3\n",
    "  ) +\n",
    "  scale_x_continuous(labels = data$x, breaks = data$x) +\n",
    "  labs(x = \"(x) gagal sebelum sukses pertama\", y = \"Peluang\") \n"
   ]
  },
  {
   "cell_type": "markdown",
   "metadata": {},
   "source": [
    "- c. Nilai Rataan (μ) dan Varian (σ²) dari Distribusi Binomial."
   ]
  },
  {
   "cell_type": "code",
   "execution_count": 65,
   "metadata": {
    "vscode": {
     "languageId": "r"
    }
   },
   "outputs": [
    {
     "name": "stdout",
     "output_type": "stream",
     "text": [
      "rataan =  0.8 \n",
      "varian =  0.64 \n"
     ]
    }
   ],
   "source": [
    "# 2.c\n",
    "rataan <- pasien_sembuh * p_sembuh\n",
    "cat (\"rataan = \", rataan, \"\\n\")\n",
    "varian <- pasien_sembuh * p_sembuh * p_tidak_sembuh\n",
    "cat (\"varian = \", varian, \"\\n\")"
   ]
  }
 ],
 "metadata": {
  "kernelspec": {
   "display_name": "R",
   "language": "R",
   "name": "ir"
  },
  "language_info": {
   "codemirror_mode": "r",
   "file_extension": ".r",
   "mimetype": "text/x-r-source",
   "name": "R",
   "pygments_lexer": "r",
   "version": "4.1.3"
  },
  "orig_nbformat": 4
 },
 "nbformat": 4,
 "nbformat_minor": 2
}
