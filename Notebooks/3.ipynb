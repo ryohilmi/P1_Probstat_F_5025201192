{
 "cells": [
  {
   "cell_type": "markdown",
   "metadata": {},
   "source": [
    "# Soal 3\n",
    "Diketahui data dari  sebuah tempat bersalin di rumah sakit tertentu menunjukkan rata-rata historis 4,5 bayi lahir di rumah sakit ini setiap hari. (gunakan Distribusi Poisson)"
   ]
  },
  {
   "cell_type": "code",
   "execution_count": 6,
   "metadata": {
    "vscode": {
     "languageId": "r"
    }
   },
   "outputs": [],
   "source": [
    "library(dplyr)\n",
    "library(ggplot2)"
   ]
  },
  {
   "cell_type": "markdown",
   "metadata": {},
   "source": [
    "- a. Berapa peluang bahwa 6 bayi akan lahir di rumah sakit ini besok?"
   ]
  },
  {
   "cell_type": "code",
   "execution_count": 3,
   "metadata": {
    "vscode": {
     "languageId": "r"
    }
   },
   "outputs": [
    {
     "name": "stdout",
     "output_type": "stream",
     "text": [
      "Peluang 6 bayi lahir:  12.81201 %\n"
     ]
    }
   ],
   "source": [
    "# 3.a\n",
    "m <- 4.5\n",
    "x <- 6\n",
    "p <- dpois(x, m)\n",
    "\n",
    "cat(\"Peluang 6 bayi lahir: \", p * 100, \"%\\n\")"
   ]
  },
  {
   "cell_type": "markdown",
   "metadata": {},
   "source": [
    "- b. simulasikan dan buatlah histogram kelahiran 6 bayi akan lahir di rumah sakit ini  selama setahun (n = 365)"
   ]
  },
  {
   "cell_type": "code",
   "execution_count": 8,
   "metadata": {
    "vscode": {
     "languageId": "r"
    }
   },
   "outputs": [
    {
     "data": {
      "image/png": "[encoded data removed]",
      "text/plain": [
       "plot without title"
      ]
     },
     "metadata": {
      "image/png": {
       "height": 420,
       "width": 420
      }
     },
     "output_type": "display_data"
    }
   ],
   "source": [
    "n <- 6\n",
    "data.frame(x = 1:15, prob = dpois(x, m)) %>%\n",
    "mutate(Kelahiran = ifelse(x == n, n, \"other\")) %>%\n",
    "ggplot(aes(x = factor(x), y = prob, fill = Kelahiran)) +\n",
    "geom_col() +\n",
    "geom_text(\n",
    "  aes(label = round(prob,2), y = prob + 0.01),\n",
    "  position = position_dodge(0.9),\n",
    "  size = 3,\n",
    "  vjust = 0\n",
    ") +\n",
    "labs(title = \"Peluang 6 bayi lahir\",\n",
    "     x = \"Jumlah Kelahiran\",\n",
    "     y = \"Peluang\")"
   ]
  },
  {
   "cell_type": "markdown",
   "metadata": {},
   "source": [
    "- c. Nilai Rataan (μ) dan Varian (σ²) dari Distribusi Poisson.\n",
    "  <br />\n",
    "  Jawaban: Dapat disimpulkan kemunculan angka x dapat dihitung menggunakan fungsi probabilitas distribusi poisson. Di sini, kita menghitung peluang kemunculan angka 6"
   ]
  },
  {
   "cell_type": "code",
   "execution_count": 5,
   "metadata": {
    "vscode": {
     "languageId": "r"
    }
   },
   "outputs": [
    {
     "name": "stdout",
     "output_type": "stream",
     "text": [
      "Rataan:  4.5 \n",
      "Varian:  4.5 \n"
     ]
    }
   ],
   "source": [
    "rataan <- m\n",
    "varian <- m\n",
    "\n",
    "cat(\"Rataan: \", rataan, \"\\n\")\n",
    "cat(\"Varian: \", varian, \"\\n\")"
   ]
  }
 ],
 "metadata": {
  "kernelspec": {
   "display_name": "R",
   "language": "R",
   "name": "ir"
  },
  "language_info": {
   "codemirror_mode": "r",
   "file_extension": ".r",
   "mimetype": "text/x-r-source",
   "name": "R",
   "pygments_lexer": "r",
   "version": "4.1.3"
  },
  "orig_nbformat": 4
 },
 "nbformat": 4,
 "nbformat_minor": 2
}
