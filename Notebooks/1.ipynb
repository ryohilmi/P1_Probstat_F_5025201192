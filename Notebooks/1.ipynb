{
 "cells": [
  {
   "cell_type": "markdown",
   "metadata": {},
   "source": [
    "# Soal 1\n",
    "Seorang penyurvei secara acak memilih orang-orang di jalan sampai dia bertemu dengan seseorang yang menghadiri acara vaksinasi sebelumnya"
   ]
  },
  {
   "cell_type": "code",
   "execution_count": 26,
   "metadata": {
    "vscode": {
     "languageId": "r"
    }
   },
   "outputs": [],
   "source": [
    "library(dplyr)\n",
    "library(ggplot2)"
   ]
  },
  {
   "cell_type": "markdown",
   "metadata": {},
   "source": [
    "- a. Berapa peluang penyurvei bertemu x = 3 orang yang tidak menghadiri acara vaksinasi  sebelum keberhasilan pertama ketika p = 0,20 dari populasi menghadiri acara vaksinasi ? (distribusi Geometrik)"
   ]
  },
  {
   "cell_type": "code",
   "execution_count": 27,
   "metadata": {
    "vscode": {
     "languageId": "r"
    }
   },
   "outputs": [
    {
     "name": "stdout",
     "output_type": "stream",
     "text": [
      "10.24 %\n"
     ]
    }
   ],
   "source": [
    "# 1.a\n",
    "p <- 0.20\n",
    "n <- 3\n",
    "\n",
    "res <- dgeom(x = n, prob = p)\n",
    "cat(res * 100, \"%\\n\")"
   ]
  },
  {
   "cell_type": "markdown",
   "metadata": {},
   "source": [
    "- b. mean Distribusi Geometrik dengan 10000 data random , prob = 0,20 dimana distribusi geometrik acak tersebut X = 3 ( distribusi geometrik acak () == 3 )"
   ]
  },
  {
   "cell_type": "code",
   "execution_count": 28,
   "metadata": {
    "vscode": {
     "languageId": "r"
    }
   },
   "outputs": [
    {
     "name": "stdout",
     "output_type": "stream",
     "text": [
      "10.16 %\n"
     ]
    }
   ],
   "source": [
    "# 1.b\n",
    "p <- 0.20\n",
    "\n",
    "res <- mean(rgeom(n = 10000, prob = p) == 3)\n",
    "cat(res * 100, \"%\\n\")"
   ]
  },
  {
   "cell_type": "markdown",
   "metadata": {},
   "source": [
    "- c. Bandingkan Hasil poin a dan b , apa kesimpulan yang bisa didapatkan?\n",
    "<br />Jawaban: Hasil dari poin a dan b memiliki perbedaan yang tidak terlalu jauh<br />"
   ]
  },
  {
   "cell_type": "markdown",
   "metadata": {},
   "source": [
    "- d. Histogram Distribusi Geometrik , Peluang X = 3 gagal Sebelum Sukses Pertama"
   ]
  },
  {
   "cell_type": "code",
   "execution_count": 29,
   "metadata": {
    "vscode": {
     "languageId": "r"
    }
   },
   "outputs": [
    {
     "data": {
      "image/png": "[encoded data removed]",
      "text/plain": [
       "plot without title"
      ]
     },
     "metadata": {
      "image/png": {
       "height": 420,
       "width": 420
      }
     },
     "output_type": "display_data"
    }
   ],
   "source": [
    "# 1.d\n",
    "p <- 0.20\n",
    "n <- 3\n",
    "\n",
    "data.frame(x = 1:10, prob = dgeom(x = 1:10, prob = p))  %>%\n",
    "  mutate(Gagal = ifelse(x == n, n, \"lainnya\")) %>%\n",
    "ggplot(aes(x = factor(x), y = prob, fill = Gagal)) +\n",
    "  geom_col() +\n",
    "  geom_text(\n",
    "    aes(label = round(prob, 2), y = prob + 0.01),\n",
    "    size = 3\n",
    "  ) +\n",
    "  labs(x = \"(x) gagal sebelum sukses pertama\", y = \"Peluang\") "
   ]
  },
  {
   "cell_type": "markdown",
   "metadata": {},
   "source": [
    "- e. Nilai Rataan (μ) dan Varian (σ²) dari Distribusi Geometrik."
   ]
  },
  {
   "cell_type": "code",
   "execution_count": 30,
   "metadata": {
    "vscode": {
     "languageId": "r"
    }
   },
   "outputs": [
    {
     "name": "stdout",
     "output_type": "stream",
     "text": [
      "Rataan:  5 \n",
      "Varian:  20 \n"
     ]
    }
   ],
   "source": [
    "p <- 0.20\n",
    "\n",
    "rataan <- 1 / p\n",
    "varian <- (1 - p) / p^2\n",
    "\n",
    "cat(\"Rataan: \", rataan, \"\\n\")\n",
    "cat(\"Varian: \", varian, \"\\n\")"
   ]
  }
 ],
 "metadata": {
  "kernelspec": {
   "display_name": "R",
   "language": "R",
   "name": "ir"
  },
  "language_info": {
   "codemirror_mode": "r",
   "file_extension": ".r",
   "mimetype": "text/x-r-source",
   "name": "R",
   "pygments_lexer": "r",
   "version": "4.1.3"
  },
  "orig_nbformat": 4
 },
 "nbformat": 4,
 "nbformat_minor": 2
}
